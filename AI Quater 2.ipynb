{
 "cells": [
  {
   "cell_type": "code",
   "execution_count": null,
   "metadata": {},
   "outputs": [],
   "source": [
    "# Class No 1"
   ]
  },
  {
   "cell_type": "raw",
   "metadata": {},
   "source": [
    "-> nd-array that hold data in sequence of memory location.\n",
    "-> cannot expend numpy array\n",
    "-> 3 attributes in numpy \n",
    "      1) ndim\n",
    "      2) dtype\n",
    "      3) shape"
   ]
  },
  {
   "cell_type": "code",
   "execution_count": 41,
   "metadata": {},
   "outputs": [
    {
     "name": "stdout",
     "output_type": "stream",
     "text": [
      "[1 2 3 4 5 6]\n",
      "normal list: [1, 2, 3, 4, 5, 6, 1, 2, 3, 4, 5, 6]\n",
      "np array: [ 2  4  6  8 10 12]\n",
      "[0. 0. 0. 0. 0. 0.]\n",
      "[1. 1. 1. 1. 1. 1.]\n",
      "[1. 1. 1. 1. 1. 1.]\n",
      "[1 2 3 4 5]\n",
      "[[1. 1. 1.]\n",
      " [1. 1. 1.]\n",
      " [1. 1. 1.]]\n",
      "<built-in method reshape of numpy.ndarray object at 0x000002386F159B70>\n"
     ]
    }
   ],
   "source": [
    "import numpy as np\n",
    "\n",
    "data = [1,2,3,4,5,6]\n",
    "data1 = np.array(data)\n",
    "print(data1)\n",
    "\n",
    "print(f\"normal list: {data *2}\")\n",
    "print(f\"np array: {data1 * 2}\")\n",
    "\n",
    "data3 = np.zeros(6)\n",
    "print(data3)\n",
    "\n",
    "data4 = np.ones(6)\n",
    "print(data4)\n",
    "\n",
    "data5 = np.empty(6)\n",
    "print(data5)\n",
    "\n",
    "data6 = np.arange(1,6)\n",
    "print(data6)\n",
    "\n",
    "print(np.ones((3,3)))\n",
    "txt = [\"abc\",\"def\",\"ghi\",\"jkl\"]\n",
    "print(np.array(data).reshape)"
   ]
  },
  {
   "cell_type": "code",
   "execution_count": null,
   "metadata": {},
   "outputs": [],
   "source": []
  },
  {
   "cell_type": "code",
   "execution_count": null,
   "metadata": {},
   "outputs": [],
   "source": []
  }
 ],
 "metadata": {
  "kernelspec": {
   "display_name": "Python 3",
   "language": "python",
   "name": "python3"
  },
  "language_info": {
   "codemirror_mode": {
    "name": "ipython",
    "version": 3
   },
   "file_extension": ".py",
   "mimetype": "text/x-python",
   "name": "python",
   "nbconvert_exporter": "python",
   "pygments_lexer": "ipython3",
   "version": "3.7.3"
  }
 },
 "nbformat": 4,
 "nbformat_minor": 2
}
